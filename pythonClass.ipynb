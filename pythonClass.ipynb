{
 "cells": [
  {
   "cell_type": "code",
   "execution_count": 1,
   "metadata": {
    "pycharm": {
     "name": "#%%\n"
    }
   },
   "outputs": [],
   "source": [
    "class Car:\n",
    "    \n",
    "    def __init__(self, rego, ownerName):\n",
    "        self.rego = rego\n",
    "        self.ownerName = ownerName\n",
    "        \n",
    "        \n",
    "    def getOwner(self):\n",
    "        return self.ownerName\n",
    "    \n",
    "    def getRego(self):\n",
    "        return self.rego\n",
    "    \n",
    "    \n",
    "    \n",
    "class ParkingLot:\n",
    "    \n",
    "    \n",
    "    def __init__(self, sid, isStaff):\n",
    "        self.sid = sid\n",
    "        self.isOccupied = False\n",
    "        self.isStaff = isStaff\n",
    "        \n",
    "    def getParkingID(self):\n",
    "        return self.sid\n",
    "    \n",
    "    def getisStaff(self):\n",
    "        return self.isStaff\n",
    "    \n",
    "    def getisOccupied(self):\n",
    "        return self.isOccupied\n",
    "    \n",
    "    def getVehicle(self):\n",
    "        return self.carinparking\n",
    "    \n",
    "    def setStaff(self, isStaff):\n",
    "        self.isStaff = isStaff\n",
    "        \n",
    "    def removeVehicle(self):\n",
    "        self.isOccupied = False\n",
    "        return self.carinparking    \n",
    "    \n",
    "    def parkStaffCar(self, carinparking):\n",
    "        self.carinparking = carinparking\n",
    "        self.isOccupied = True\n",
    "        self.isStaff = True\n",
    "        \n",
    "    def parkVisitorCar(self, carinparking):\n",
    "        self.carinparking = carinparking\n",
    "        self.isOccupied = True\n",
    "        self.isStaff = False    \n",
    "    \n",
    "\n",
    "class CarPark:\n",
    "    \n",
    "    \n",
    "    def __init__(self):\n",
    "        self.parkingslots = []\n",
    "        \n",
    "        \n",
    "    def addnewParkingSlots(self, parkingslot):\n",
    "        self.parkingslots.append(parkingslot)\n",
    "        \n",
    "    def getAvailableParking(self):\n",
    "        spots = []\n",
    "        for i in self.parkingslots:\n",
    "            if i.getisOccupied()==False:\n",
    "                spots.append(i.getParkingID())\n",
    "        return spots\n",
    "    \n",
    "    def getAllParking(self):\n",
    "        spots = []\n",
    "        for i in self.parkingslots:\n",
    "            spots.append(i.getParkingID())\n",
    "        return spots\n",
    "    \n",
    "    def removeParking(self, sid):\n",
    "        for i in self.parkingslots:\n",
    "            if i.getParkingID()== sid:\n",
    "                return True\n",
    "        return False\n",
    "    \n",
    "    def findParkingbyID(self, sid):\n",
    "        parkingfound = ParkingLot(-1, False)\n",
    "        for i in self.parkingslots:\n",
    "            if i.getParkingID()== sid:\n",
    "                parkingfound = i\n",
    "        return parkingfound        \n",
    "        \n",
    "            \n",
    "    \n",
    "    "
   ]
  },
  {
   "cell_type": "code",
   "execution_count": 2,
   "metadata": {},
   "outputs": [
    {
     "name": "stdout",
     "output_type": "stream",
     "text": [
      "Start by establishing the number of Staff ParkingSpots5\n",
      "Start by establishing the number of Visitor ParkingSpots5\n",
      "Please enter the rego of the car being parkedp12345\n",
      "Please enter the owners namehamza\n",
      "['S1', 'S2', 'S3', 'S4', 'S5', 'V1', 'V2', 'V3', 'V4', 'V5']\n",
      "Please select spotS1\n"
     ]
    }
   ],
   "source": [
    "carparkone = CarPark()\n",
    "staffSpots = int(input(\"Start by establishing the number of Staff ParkingSpots\"))\n",
    "visSpots = int(input(\"Start by establishing the number of Visitor ParkingSpots\"))\n",
    "rows = 0\n",
    "secondrow = 0\n",
    "while rows < staffSpots:\n",
    "    rows+=1\n",
    "    parkingspot = ParkingLot(\"S\"+str(rows), True)\n",
    "    carparkone.addnewParkingSlots(parkingspot)\n",
    "while secondrow < visSpots:\n",
    "    secondrow+=1\n",
    "    visparkingspot = ParkingLot(\"V\"+str(secondrow), False)\n",
    "    carparkone.addnewParkingSlots(visparkingspot)\n",
    "vehicle = input(\"Please enter the rego of the car being parked\")\n",
    "owner = input(\"Please enter the owners name\")\n",
    "car = Car(vehicle, owner)\n",
    "print(carparkone.getAllParking())\n",
    "sid = input(\"Please select spot\")\n",
    "carparkone.findParkingbyID(sid).parkStaffCar(car) \n",
    "    "
   ]
  },
  {
   "cell_type": "code",
   "execution_count": 7,
   "metadata": {},
   "outputs": [
    {
     "data": {
      "text/plain": [
       "True"
      ]
     },
     "execution_count": 7,
     "metadata": {},
     "output_type": "execute_result"
    }
   ],
   "source": [
    "carparkone.findParkingbyID(\"S1\").getisOccupied()"
   ]
  },
  {
   "cell_type": "code",
   "execution_count": 8,
   "metadata": {},
   "outputs": [
    {
     "data": {
      "text/plain": [
       "False"
      ]
     },
     "execution_count": 8,
     "metadata": {},
     "output_type": "execute_result"
    }
   ],
   "source": [
    "carparkone.findParkingbyID(\"S3\").getisOccupied()"
   ]
  },
  {
   "cell_type": "code",
   "execution_count": null,
   "metadata": {},
   "outputs": [],
   "source": []
  }
 ],
 "metadata": {
  "kernelspec": {
   "display_name": "Python 3",
   "language": "python",
   "name": "python3"
  },
  "language_info": {
   "codemirror_mode": {
    "name": "ipython",
    "version": 3
   },
   "file_extension": ".py",
   "mimetype": "text/x-python",
   "name": "python",
   "nbconvert_exporter": "python",
   "pygments_lexer": "ipython3",
   "version": "3.6.5"
  }
 },
 "nbformat": 4,
 "nbformat_minor": 1
}
